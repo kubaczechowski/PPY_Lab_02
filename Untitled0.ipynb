{
  "nbformat": 4,
  "nbformat_minor": 0,
  "metadata": {
    "colab": {
      "provenance": [],
      "authorship_tag": "ABX9TyNyOXEwNmuinvzGC31LBKeb",
      "include_colab_link": true
    },
    "kernelspec": {
      "name": "python3",
      "display_name": "Python 3"
    },
    "language_info": {
      "name": "python"
    }
  },
  "cells": [
    {
      "cell_type": "markdown",
      "metadata": {
        "id": "view-in-github",
        "colab_type": "text"
      },
      "source": [
        "<a href=\"https://colab.research.google.com/github/kubaczechowski/PPY_Lab_02/blob/main/Untitled0.ipynb\" target=\"_parent\"><img src=\"https://colab.research.google.com/assets/colab-badge.svg\" alt=\"Open In Colab\"/></a>"
      ]
    },
    {
      "cell_type": "code",
      "execution_count": 3,
      "metadata": {
        "colab": {
          "base_uri": "https://localhost:8080/"
        },
        "id": "UJwSURCldxlV",
        "outputId": "9343e3ff-a54d-4d4f-c808-dd02e26033c0"
      },
      "outputs": [
        {
          "output_type": "stream",
          "name": "stdout",
          "text": [
            "https://archive.ics.uci.edu/ml/machine-learning-databases/wine/wine.data\n",
            "\n",
            "tu kod zwracajacy nazwy kolumn\n",
            "tu kod zwracajacy nr wierszy i kolumn\n",
            "przykladowy obiekt typu Wine\n",
            "0\n",
            "tu kod aby uzyskać nowy obiekt\n",
            "(0, 0)\n",
            "str\n",
            "tu wstaw średnią dokładność\n"
          ]
        }
      ],
      "source": [
        "import ssl\n",
        "\n",
        "import pandas as pd\n",
        "\n",
        "ssl._create_default_https_context = ssl._create_unverified_context\n",
        "\n",
        "# Wczytaj dane z adresu podanego w pliku tekstowym: pliktextowy.txt\n",
        "# do ramki danych.\n",
        "# Użyj reszty wierszy jako nagłówków ramki danych.\n",
        "# Uwaga! Zobacz która zmienna jest zmienną objaśnianą, będzie to potrzebne do dalszych zadań.\n",
        "f = open(\"pliktextowy.txt\", \"r\")\n",
        "first_line = f.readline()\n",
        "print(first_line)\n",
        "\n",
        "df = pd.DataFrame()  # tutaj podmień df. Ma zawierać wczytane dane.\n",
        "column_names = pd.read_csv(\"pliktextowy.txt\", header=None).iloc[0].tolist()\n",
        "df = pd.read_csv(first_line, names=column_names)\n",
        "\n",
        "# Sprawdzenie zawartości wczytanej ramki danych\n",
        "print(df.head())\n",
        "\n",
        "# Zadanie1 przypisz nazwy kolumn z df w jednej linii:   (2pkt)\n",
        "\n",
        "wynik1 = \"tu kod zwracajacy nazwy kolumn\"\n",
        "print(wynik1)\n",
        "\n",
        "# Zadanie 2: Wypisz liczbę wierszy oraz kolumn ramki danych w jednej linii.  (2pkt)\n",
        "wynik2 = \"tu kod zwracajacy nr wierszy i kolumn\"\n",
        "print(wynik2)\n",
        "\n",
        "# Zadanie Utwórz klasę Wine na podstawie wczytanego zbioru:\n",
        "# wszystkie zmienne objaśniające powinny być w liscie.\n",
        "# Zmienna objaśniana jako odrębne pole.\n",
        "# metoda __init__ powinna posiadać 2 parametry:\n",
        "# listę (zmienne objaśniające) oraz liczbę(zmienna objaśniana).\n",
        "# nazwy mogą być dowolne.\n",
        "\n",
        "# Klasa powinna umożliwiać stworzenie nowego obiektu na podstawie\n",
        "# już istniejącego obiektu jak w pdf z lekcji lab6.\n",
        "# podpowiedź: metoda magiczna __repr__\n",
        "# Nie pisz metody __str__.\n",
        "\n",
        "# Zadanie 3 Utwórz przykładowy obiekt:   (3pkt)\n",
        "wynik3 = \"przykladowy obiekt typu Wine\"  # do podmiany. Pamiętaj - ilość elementów, jak w zbiorze danych.\n",
        "# Uwaga! Pamiętaj, która zmienna jest zmienną objaśnianą\n",
        "print(wynik3)\n",
        "\n",
        "# Zadanie 4.                             (3pkt)\n",
        "# Zapisz wszystkie dane z ramki danych do listy obiektów typu Wine.\n",
        "# Nie podmieniaj listy, dodawaj elementy.\n",
        "# Uwaga! zobacz w jakiej kolejności podawane są zmienne objaśniane i objąśniająca.\n",
        "# Podpowiedź zobacz w pliktextowy.txt\n",
        "wineList = []\n",
        "wynik4 = len(wineList)\n",
        "print(wynik4)\n",
        "\n",
        "# Zadanie5 - Weź ostatni element z listy i na podstawie         (3pkt)\n",
        "# wyniku funkcji repr utwórz nowy obiekt - eval(repr(obiekt))\n",
        "# do wyniku przypisz zmienną objaśnianą z tego obiektu:\n",
        "wynik5 = \"tu kod aby uzyskać nowy obiekt\"\n",
        "print(wynik5)\n",
        "\n",
        "# Zadanie 6:                                                          (3pkt)\n",
        "# Zapisz ramkę danych  do bazy SQLite nazwa bazy(dopisz swoje imię i nazwisko):\n",
        "# wines_imie_nazwisko, nazwa tabeli: wines.\n",
        "# Następnie wczytaj dane z tabeli wybierając z bazy danych tylko wiersze z typem wina nr 3\n",
        "# i zapisz je do nowego data frame:\n",
        "wynik6 = \"W następnej linijce podmień na nowy  data frame z winami tylko klasy trzeciej:\"\n",
        "wynik6 = pd.DataFrame()  # tutaj do podmiany\n",
        "\n",
        "print(wynik6.shape)\n",
        "\n",
        "# Zadanie 7                                                          (1pkt)\n",
        "# Utwórz model regresji Logistycznej z domyślnymi ustawieniami:\n",
        "\n",
        "model = \"tu wstaw kod inicjalizujacy model\"\n",
        "\n",
        "wynik7 = model.__class__.__name__\n",
        "print(wynik7)\n",
        "\n",
        "# Zadanie 8:                                                        (3pkt)\n",
        "# Dokonaj podziału ramki danych na dane objaśniające i  do klasyfikacji.\n",
        "# Znormalizuj dane objaśniające za pomocą:\n",
        "# preprocessing.normalize(X)\n",
        "# Wytenuj model na wszystkich danych bez podziału na zbiór treningowy i testowy.\n",
        "# Wykonaj sprawdzian krzyżowy, używając LeaveOneOut() zamiast KFold (Parametr cv)\n",
        "#  Podaj średnią dokładność (accuracy)\n",
        "\n",
        "wynik8 = \"tu wstaw średnią dokładność\"\n",
        "print(wynik8)\n",
        "\n",
        "\n",
        "class Wine:\n",
        "    pass\n"
      ]
    },
    {
      "cell_type": "code",
      "source": [],
      "metadata": {
        "id": "Kote5RdSecIC"
      },
      "execution_count": null,
      "outputs": []
    },
    {
      "cell_type": "code",
      "source": [],
      "metadata": {
        "id": "tKHosUatd0XE"
      },
      "execution_count": null,
      "outputs": []
    }
  ]
}